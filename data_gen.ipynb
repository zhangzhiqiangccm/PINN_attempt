{
 "cells": [
  {
   "cell_type": "code",
   "execution_count": 18,
   "id": "277a11b9",
   "metadata": {
    "pycharm": {
     "name": "#%%\n"
    }
   },
   "outputs": [],
   "source": [
    "import numpy as np\n",
    "import pandas as pd\n",
    "from scipy.integrate import solve_ivp\n",
    "import math\n",
    "import matplotlib.pyplot as plt\n",
    "from scipy import integrate, optimize\n",
    "import deepxde as dde"
   ]
  },
  {
   "cell_type": "code",
   "execution_count": 21,
   "id": "64b7df5f",
   "metadata": {
    "pycharm": {
     "name": "#%%\n"
    }
   },
   "outputs": [],
   "source": [
    "S0 = 50000\n",
    "F0 = 1\n",
    "I0 = 0\n",
    "beta = 2.0e-5\n",
    "alpha = 0.05\n",
    "p = 0.3"
   ]
  },
  {
   "cell_type": "code",
   "execution_count": 22,
   "id": "b92a8c04",
   "metadata": {
    "pycharm": {
     "name": "#%%\n"
    }
   },
   "outputs": [],
   "source": [
    "def sfi_model(y, x, beta, alpha,p):\n",
    "    S = -y[0]* y[1] * beta\n",
    "    F = y[0]* y[1] * beta * p  - y[1]* alpha\n",
    "    I = (1-p) * beta * y[0]* y[1] + alpha * y[1]\n",
    "    return S, F, I\n",
    "def fit_odeint(x, beta, alpha , p):\n",
    "    return integrate.odeint(sfi_model, (S0, F0, I0), x, args=(beta, alpha,p))[:,0],integrate.odeint(sfi_model, (S0, F0, I0), x, args=(beta, alpha,p))[:,1],integrate.odeint(sfi_model, (S0, F0, I0), x, args=(beta, alpha,p))[:,2]"
   ]
  },
  {
   "cell_type": "code",
   "execution_count": 25,
   "id": "2358eeff",
   "metadata": {
    "pycharm": {
     "name": "#%%\n"
    }
   },
   "outputs": [],
   "source": [
    "x_data= np.arange(0,200)\n",
    "s,f , i = fit_odeint(x_data,beta,alpha,p)"
   ]
  },
  {
   "cell_type": "code",
   "execution_count": 26,
   "id": "550669bc",
   "metadata": {
    "pycharm": {
     "name": "#%%\n"
    }
   },
   "outputs": [
    {
     "data": {
      "text/plain": [
       "[<matplotlib.lines.Line2D at 0x21760479088>]"
      ]
     },
     "execution_count": 26,
     "metadata": {},
     "output_type": "execute_result"
    },
    {
     "data": {
      "image/png": "[encoded data removed]",
      "text/plain": [
       "<Figure size 432x288 with 1 Axes>"
      ]
     },
     "metadata": {
      "needs_background": "light"
     },
     "output_type": "display_data"
    }
   ],
   "source": [
    "#画图\n",
    "plt.plot(x_data, s, color=\"red\", linewidth=1.0, linestyle=\"--\")\n",
    "plt.plot(x_data, f, color=\"blue\", linewidth=1.0, linestyle=\"-\")\n",
    "plt.plot(x_data, i, color=\"green\", linewidth=1.0, linestyle=\"-.\")"
   ]
  },
  {
   "cell_type": "code",
   "execution_count": 27,
   "id": "e2554782",
   "metadata": {
    "pycharm": {
     "name": "#%%\n"
    }
   },
   "outputs": [],
   "source": [
    "ob_x = x_data.reshape((len(x_data),1))"
   ]
  },
  {
   "cell_type": "code",
   "execution_count": 28,
   "id": "c94dcb36",
   "metadata": {
    "pycharm": {
     "name": "#%%\n"
    }
   },
   "outputs": [],
   "source": [
    "ob_s = s.reshape((len(s),1))"
   ]
  },
  {
   "cell_type": "code",
   "execution_count": 29,
   "id": "4369b82d",
   "metadata": {
    "pycharm": {
     "name": "#%%\n"
    }
   },
   "outputs": [],
   "source": [
    "ob_f = f.reshape((len(f),1))"
   ]
  },
  {
   "cell_type": "code",
   "execution_count": 30,
   "id": "df4dc651",
   "metadata": {
    "pycharm": {
     "name": "#%%\n"
    }
   },
   "outputs": [],
   "source": [
    "ob_i = i.reshape((len(i),1))"
   ]
  },
  {
   "cell_type": "code",
   "execution_count": 31,
   "id": "4bd502f3",
   "metadata": {
    "pycharm": {
     "name": "#%%\n"
    }
   },
   "outputs": [],
   "source": [
    "ob_my_y = np.concatenate((ob_s,ob_f,ob_i),axis = 1)"
   ]
  },
  {
   "cell_type": "code",
   "execution_count": 32,
   "id": "d75a97da",
   "metadata": {
    "pycharm": {
     "name": "#%%\n"
    }
   },
   "outputs": [],
   "source": [
    "C1 = dde.Variable(0.5)  #beta\n",
    "C2 = dde.Variable(0.5)  #p\n",
    "C3 = dde.Variable(2.0)  #alpha"
   ]
  },
  {
   "cell_type": "code",
   "execution_count": 33,
   "id": "92ecacdd",
   "metadata": {
    "pycharm": {
     "name": "#%%\n"
    }
   },
   "outputs": [],
   "source": [
    "def sfi_model_deepxde(x,y):\n",
    "    y1, y2, y3 = y[:, 0:1], y[:, 1:2], y[:, 2:]\n",
    "    dy1_x = dde.grad.jacobian(y, x, i=0)\n",
    "    dy2_x = dde.grad.jacobian(y, x, i=1)\n",
    "    dy3_x = dde.grad.jacobian(y, x, i=2)\n",
    "    return [\n",
    "        dy1_x + C1 * y2 * y1,\n",
    "        dy2_x - C1 * C2 * y1 * y2 + C3 * y2,\n",
    "        dy3_x - C3 * y2 + C1 * (1-C2) * y1 * y2,\n",
    "    ]\n",
    "def boundary(_, on_initial):\n",
    "    return on_initial"
   ]
  },
  {
   "cell_type": "code",
   "execution_count": 34,
   "id": "d3aa2a8c",
   "metadata": {
    "pycharm": {
     "name": "#%%\n"
    }
   },
   "outputs": [],
   "source": [
    "geom = dde.geometry.TimeDomain(0, 59)"
   ]
  },
  {
   "cell_type": "code",
   "execution_count": 35,
   "id": "87a109e7",
   "metadata": {
    "pycharm": {
     "name": "#%%\n"
    }
   },
   "outputs": [],
   "source": [
    "# Initial conditions\n",
    "ic1 = dde.icbc.IC(geom, lambda X: 50000, boundary, component=0)\n",
    "ic2 = dde.icbc.IC(geom, lambda X: 1, boundary, component=1)\n",
    "ic3 = dde.icbc.IC(geom, lambda X: 0, boundary, component=2)"
   ]
  },
  {
   "cell_type": "code",
   "execution_count": 36,
   "id": "30495d15",
   "metadata": {
    "pycharm": {
     "name": "#%%\n"
    }
   },
   "outputs": [],
   "source": [
    "observe_y0 = dde.icbc.PointSetBC(ob_x, ob_my_y[:, 0:1], component=0)\n",
    "observe_y1 = dde.icbc.PointSetBC(ob_x, ob_my_y[:, 1:2], component=1)\n",
    "observe_y2 = dde.icbc.PointSetBC(ob_x, ob_my_y[:, 2:3], component=2)"
   ]
  },
  {
   "cell_type": "code",
   "execution_count": 37,
   "id": "5fa5026f",
   "metadata": {
    "pycharm": {
     "name": "#%%\n"
    }
   },
   "outputs": [],
   "source": [
    "data = dde.data.PDE(\n",
    "    geom,\n",
    "    sfi_model_deepxde,\n",
    "    [ic1, ic2, ic3, observe_y0, observe_y1, observe_y2],\n",
    "    num_domain=1000,      #数值采样个数和边缘概率\n",
    "    num_boundary=20,\n",
    "    anchors=ob_x,\n",
    ")"
   ]
  },
  {
   "cell_type": "code",
   "execution_count": null,
   "id": "d22e30de",
   "metadata": {
    "pycharm": {
     "name": "#%%\n"
    }
   },
   "outputs": [
    {
     "name": "stdout",
     "output_type": "stream",
     "text": [
      "Compiling model...\n",
      "'compile' took 0.000145 s\n",
      "\n",
      "Training model...\n",
      "\n",
      "Step      Train loss                                                                                    Test loss                                                                                     Test metric\n",
      "0         [2.59e-02, 3.20e+00, 3.18e+00, 2.50e+09, 1.00e+00, 0.00e+00, 4.32e+08, 7.51e+06, 1.82e+09]    [2.59e-02, 3.20e+00, 3.18e+00, 2.50e+09, 1.00e+00, 0.00e+00, 4.32e+08, 7.51e+06, 1.82e+09]    []  \n",
      "1000      [3.83e+01, 4.64e+01, 4.67e+01, 2.50e+09, 2.75e+02, 4.64e+02, 4.31e+08, 7.42e+06, 1.82e+09]    [3.83e+01, 4.64e+01, 4.67e+01, 2.50e+09, 2.75e+02, 4.64e+02, 4.31e+08, 7.42e+06, 1.82e+09]    []  \n",
      "2000      [3.42e+00, 2.69e+00, 3.15e+00, 2.49e+09, 1.11e+03, 1.48e+03, 4.31e+08, 7.33e+06, 1.82e+09]    [3.42e+00, 2.69e+00, 3.15e+00, 2.49e+09, 1.11e+03, 1.48e+03, 4.31e+08, 7.33e+06, 1.82e+09]    []  \n",
      "3000      [1.07e+01, 9.09e+00, 1.01e+01, 2.49e+09, 2.47e+03, 3.08e+03, 4.30e+08, 7.25e+06, 1.82e+09]    [1.07e+01, 9.09e+00, 1.01e+01, 2.49e+09, 2.47e+03, 3.08e+03, 4.30e+08, 7.25e+06, 1.82e+09]    []  \n",
      "4000      [2.54e+01, 2.23e+01, 2.42e+01, 2.49e+09, 4.36e+03, 5.25e+03, 4.29e+08, 7.17e+06, 1.81e+09]    [2.54e+01, 2.23e+01, 2.42e+01, 2.49e+09, 4.36e+03, 5.25e+03, 4.29e+08, 7.17e+06, 1.81e+09]    []  \n",
      "5000      [5.16e+01, 4.73e+01, 4.67e+01, 2.48e+09, 6.78e+03, 8.00e+03, 4.29e+08, 7.09e+06, 1.81e+09]    [5.16e+01, 4.73e+01, 4.67e+01, 2.48e+09, 6.78e+03, 8.00e+03, 4.29e+08, 7.09e+06, 1.81e+09]    []  \n",
      "6000      [8.17e+01, 7.43e+01, 7.87e+01, 2.48e+09, 9.71e+03, 1.13e+04, 4.28e+08, 7.02e+06, 1.81e+09]    [8.17e+01, 7.43e+01, 7.87e+01, 2.48e+09, 9.71e+03, 1.13e+04, 4.28e+08, 7.02e+06, 1.81e+09]    []  \n",
      "7000      [1.20e+02, 1.11e+02, 1.17e+02, 2.48e+09, 1.32e+04, 1.52e+04, 4.28e+08, 6.94e+06, 1.81e+09]    [1.20e+02, 1.11e+02, 1.17e+02, 2.48e+09, 1.32e+04, 1.52e+04, 4.28e+08, 6.94e+06, 1.81e+09]    []  \n",
      "8000      [1.57e+02, 1.45e+02, 1.53e+02, 2.47e+09, 1.71e+04, 1.97e+04, 4.27e+08, 6.87e+06, 1.80e+09]    [1.57e+02, 1.45e+02, 1.53e+02, 2.47e+09, 1.71e+04, 1.97e+04, 4.27e+08, 6.87e+06, 1.80e+09]    []  \n",
      "9000      [1.90e+02, 1.76e+02, 1.85e+02, 2.47e+09, 2.16e+04, 2.48e+04, 4.26e+08, 6.80e+06, 1.80e+09]    [1.90e+02, 1.76e+02, 1.85e+02, 2.47e+09, 2.16e+04, 2.48e+04, 4.26e+08, 6.80e+06, 1.80e+09]    []  \n",
      "10000     [2.28e+02, 2.12e+02, 2.22e+02, 2.47e+09, 2.66e+04, 3.04e+04, 4.26e+08, 6.73e+06, 1.80e+09]    [2.28e+02, 2.12e+02, 2.22e+02, 2.47e+09, 2.66e+04, 3.04e+04, 4.26e+08, 6.73e+06, 1.80e+09]    []  \n",
      "11000     [2.69e+02, 2.55e+02, 2.63e+02, 2.47e+09, 3.21e+04, 3.66e+04, 4.25e+08, 6.66e+06, 1.80e+09]    [2.69e+02, 2.55e+02, 2.63e+02, 2.47e+09, 3.21e+04, 3.66e+04, 4.25e+08, 6.66e+06, 1.80e+09]    []  \n",
      "12000     [3.14e+02, 2.94e+02, 3.06e+02, 2.46e+09, 3.81e+04, 4.34e+04, 4.25e+08, 6.59e+06, 1.79e+09]    [3.14e+02, 2.94e+02, 3.06e+02, 2.46e+09, 3.81e+04, 4.34e+04, 4.25e+08, 6.59e+06, 1.79e+09]    []  \n",
      "13000     [3.57e+02, 3.40e+02, 3.52e+02, 2.46e+09, 4.46e+04, 5.07e+04, 4.24e+08, 6.53e+06, 1.79e+09]    [3.57e+02, 3.40e+02, 3.52e+02, 2.46e+09, 4.46e+04, 5.07e+04, 4.24e+08, 6.53e+06, 1.79e+09]    []  \n",
      "14000     [4.81e+02, 4.97e+02, 3.91e+02, 2.46e+09, 5.16e+04, 5.86e+04, 4.24e+08, 6.46e+06, 1.79e+09]    [4.81e+02, 4.97e+02, 3.91e+02, 2.46e+09, 5.16e+04, 5.86e+04, 4.24e+08, 6.46e+06, 1.79e+09]    []  \n",
      "15000     [4.33e+02, 4.12e+02, 4.28e+02, 2.45e+09, 5.90e+04, 6.72e+04, 4.23e+08, 6.40e+06, 1.79e+09]    [4.33e+02, 4.12e+02, 4.28e+02, 2.45e+09, 5.90e+04, 6.72e+04, 4.23e+08, 6.40e+06, 1.79e+09]    []  \n",
      "16000     [4.95e+02, 4.54e+02, 4.67e+02, 2.45e+09, 6.70e+04, 7.62e+04, 4.22e+08, 6.34e+06, 1.79e+09]    [4.95e+02, 4.54e+02, 4.67e+02, 2.45e+09, 6.70e+04, 7.62e+04, 4.22e+08, 6.34e+06, 1.79e+09]    []  \n",
      "17000     [5.29e+02, 5.10e+02, 5.25e+02, 2.45e+09, 7.54e+04, 8.59e+04, 4.22e+08, 6.28e+06, 1.78e+09]    [5.29e+02, 5.10e+02, 5.25e+02, 2.45e+09, 7.54e+04, 8.59e+04, 4.22e+08, 6.28e+06, 1.78e+09]    []  \n",
      "18000     [8.09e+02, 8.26e+02, 5.73e+02, 2.44e+09, 8.42e+04, 9.62e+04, 4.21e+08, 6.23e+06, 1.78e+09]    [8.09e+02, 8.26e+02, 5.73e+02, 2.44e+09, 8.42e+04, 9.62e+04, 4.21e+08, 6.23e+06, 1.78e+09]    []  \n",
      "19000     [7.43e+02, 7.19e+02, 7.40e+02, 2.44e+09, 9.35e+04, 1.07e+05, 4.21e+08, 6.18e+06, 1.78e+09]    [7.43e+02, 7.19e+02, 7.40e+02, 2.44e+09, 9.35e+04, 1.07e+05, 4.21e+08, 6.18e+06, 1.78e+09]    []  \n",
      "20000     [8.32e+02, 8.30e+02, 8.14e+02, 2.44e+09, 1.03e+05, 1.18e+05, 4.20e+08, 6.11e+06, 1.78e+09]    [8.32e+02, 8.30e+02, 8.14e+02, 2.44e+09, 1.03e+05, 1.18e+05, 4.20e+08, 6.11e+06, 1.78e+09]    []  \n",
      "21000     [7.82e+02, 7.57e+02, 7.81e+02, 2.43e+09, 1.13e+05, 1.30e+05, 4.20e+08, 6.07e+06, 1.77e+09]    [7.82e+02, 7.57e+02, 7.81e+02, 2.43e+09, 1.13e+05, 1.30e+05, 4.20e+08, 6.07e+06, 1.77e+09]    []  \n",
      "22000     [8.47e+02, 8.21e+02, 8.46e+02, 2.43e+09, 1.24e+05, 1.43e+05, 4.19e+08, 6.02e+06, 1.77e+09]    [8.47e+02, 8.21e+02, 8.46e+02, 2.43e+09, 1.24e+05, 1.43e+05, 4.19e+08, 6.02e+06, 1.77e+09]    []  \n",
      "23000     [1.16e+03, 1.17e+03, 9.30e+02, 2.43e+09, 1.35e+05, 1.56e+05, 4.18e+08, 5.97e+06, 1.77e+09]    [1.16e+03, 1.17e+03, 9.30e+02, 2.43e+09, 1.35e+05, 1.56e+05, 4.18e+08, 5.97e+06, 1.77e+09]    []  \n",
      "24000     [1.02e+03, 9.88e+02, 1.02e+03, 2.43e+09, 1.46e+05, 1.70e+05, 4.18e+08, 5.92e+06, 1.77e+09]    [1.02e+03, 9.88e+02, 1.02e+03, 2.43e+09, 1.46e+05, 1.70e+05, 4.18e+08, 5.92e+06, 1.77e+09]    []  \n",
      "25000     [1.13e+03, 1.14e+03, 1.09e+03, 2.42e+09, 1.58e+05, 1.84e+05, 4.17e+08, 5.88e+06, 1.76e+09]    [1.13e+03, 1.14e+03, 1.09e+03, 2.42e+09, 1.58e+05, 1.84e+05, 4.17e+08, 5.88e+06, 1.76e+09]    []  \n",
      "26000     [1.17e+03, 1.14e+03, 1.17e+03, 2.42e+09, 1.70e+05, 1.99e+05, 4.17e+08, 5.83e+06, 1.76e+09]    [1.17e+03, 1.14e+03, 1.17e+03, 2.42e+09, 1.70e+05, 1.99e+05, 4.17e+08, 5.83e+06, 1.76e+09]    []  \n",
      "27000     [1.25e+03, 1.22e+03, 1.26e+03, 2.42e+09, 1.82e+05, 2.14e+05, 4.16e+08, 5.79e+06, 1.76e+09]    [1.25e+03, 1.22e+03, 1.26e+03, 2.42e+09, 1.82e+05, 2.14e+05, 4.16e+08, 5.79e+06, 1.76e+09]    []  \n",
      "28000     [1.33e+03, 1.31e+03, 1.34e+03, 2.41e+09, 1.94e+05, 2.30e+05, 4.16e+08, 5.75e+06, 1.76e+09]    [1.33e+03, 1.31e+03, 1.34e+03, 2.41e+09, 1.94e+05, 2.30e+05, 4.16e+08, 5.75e+06, 1.76e+09]    []  \n",
      "29000     [1.75e+03, 1.43e+03, 1.49e+03, 2.41e+09, 2.07e+05, 2.47e+05, 4.15e+08, 5.71e+06, 1.76e+09]    [1.75e+03, 1.43e+03, 1.49e+03, 2.41e+09, 2.07e+05, 2.47e+05, 4.15e+08, 5.71e+06, 1.76e+09]    []  \n",
      "30000     [2.02e+03, 1.96e+03, 1.48e+03, 2.41e+09, 2.19e+05, 2.64e+05, 4.14e+08, 5.68e+06, 1.75e+09]    [2.02e+03, 1.96e+03, 1.48e+03, 2.41e+09, 2.19e+05, 2.64e+05, 4.14e+08, 5.68e+06, 1.75e+09]    []  \n",
      "31000     [1.57e+03, 1.54e+03, 1.58e+03, 2.40e+09, 2.31e+05, 2.82e+05, 4.14e+08, 5.64e+06, 1.75e+09]    [1.57e+03, 1.54e+03, 1.58e+03, 2.40e+09, 2.31e+05, 2.82e+05, 4.14e+08, 5.64e+06, 1.75e+09]    []  \n",
      "32000     [1.64e+03, 1.63e+03, 1.66e+03, 2.40e+09, 2.43e+05, 3.00e+05, 4.13e+08, 5.61e+06, 1.75e+09]    [1.64e+03, 1.63e+03, 1.66e+03, 2.40e+09, 2.43e+05, 3.00e+05, 4.13e+08, 5.61e+06, 1.75e+09]    []  \n",
      "33000     [1.83e+03, 1.81e+03, 1.85e+03, 2.40e+09, 2.55e+05, 3.19e+05, 4.13e+08, 5.59e+06, 1.75e+09]    [1.83e+03, 1.81e+03, 1.85e+03, 2.40e+09, 2.55e+05, 3.19e+05, 4.13e+08, 5.59e+06, 1.75e+09]    []  \n",
      "34000     [2.61e+03, 1.96e+03, 2.03e+03, 2.39e+09, 2.65e+05, 3.39e+05, 4.12e+08, 5.56e+06, 1.74e+09]    [2.61e+03, 1.96e+03, 2.03e+03, 2.39e+09, 2.65e+05, 3.39e+05, 4.12e+08, 5.56e+06, 1.74e+09]    []  \n",
      "35000     [1.94e+03, 1.92e+03, 1.97e+03, 2.39e+09, 2.74e+05, 3.59e+05, 4.12e+08, 5.53e+06, 1.74e+09]    [1.94e+03, 1.92e+03, 1.97e+03, 2.39e+09, 2.74e+05, 3.59e+05, 4.12e+08, 5.53e+06, 1.74e+09]    []  \n",
      "36000     [2.07e+03, 2.05e+03, 2.10e+03, 2.39e+09, 2.80e+05, 3.79e+05, 4.11e+08, 5.51e+06, 1.74e+09]    [2.07e+03, 2.05e+03, 2.10e+03, 2.39e+09, 2.80e+05, 3.79e+05, 4.11e+08, 5.51e+06, 1.74e+09]    []  \n",
      "37000     [2.28e+03, 2.24e+03, 2.31e+03, 2.39e+09, 2.83e+05, 4.01e+05, 4.11e+08, 5.50e+06, 1.74e+09]    [2.28e+03, 2.24e+03, 2.31e+03, 2.39e+09, 2.83e+05, 4.01e+05, 4.11e+08, 5.50e+06, 1.74e+09]    []  \n",
      "38000     [2.24e+03, 2.23e+03, 2.28e+03, 2.38e+09, 2.81e+05, 4.22e+05, 4.10e+08, 5.48e+06, 1.73e+09]    [2.24e+03, 2.23e+03, 2.28e+03, 2.38e+09, 2.81e+05, 4.22e+05, 4.10e+08, 5.48e+06, 1.73e+09]    []  \n",
      "39000     [2.71e+03, 2.73e+03, 2.34e+03, 2.38e+09, 2.77e+05, 4.45e+05, 4.09e+08, 5.47e+06, 1.73e+09]    [2.71e+03, 2.73e+03, 2.34e+03, 2.38e+09, 2.77e+05, 4.45e+05, 4.09e+08, 5.47e+06, 1.73e+09]    []  \n"
     ]
    },
    {
     "name": "stdout",
     "output_type": "stream",
     "text": [
      "40000     [5.01e+03, 4.32e+03, 2.65e+03, 2.38e+09, 2.71e+05, 4.68e+05, 4.09e+08, 5.47e+06, 1.73e+09]    [5.01e+03, 4.32e+03, 2.65e+03, 2.38e+09, 2.71e+05, 4.68e+05, 4.09e+08, 5.47e+06, 1.73e+09]    []  \n",
      "41000     [2.56e+03, 2.53e+03, 2.60e+03, 2.37e+09, 2.66e+05, 4.91e+05, 4.08e+08, 5.46e+06, 1.73e+09]    [2.56e+03, 2.53e+03, 2.60e+03, 2.37e+09, 2.66e+05, 4.91e+05, 4.08e+08, 5.46e+06, 1.73e+09]    []  \n",
      "42000     [9.31e+03, 4.99e+03, 3.63e+03, 2.37e+09, 2.60e+05, 5.15e+05, 4.08e+08, 5.45e+06, 1.72e+09]    [9.31e+03, 4.99e+03, 3.63e+03, 2.37e+09, 2.60e+05, 5.15e+05, 4.08e+08, 5.45e+06, 1.72e+09]    []  \n",
      "43000     [4.25e+03, 4.02e+03, 2.83e+03, 2.37e+09, 2.55e+05, 5.40e+05, 4.07e+08, 5.45e+06, 1.72e+09]    [4.25e+03, 4.02e+03, 2.83e+03, 2.37e+09, 2.55e+05, 5.40e+05, 4.07e+08, 5.45e+06, 1.72e+09]    []  \n",
      "44000     [2.90e+03, 2.88e+03, 2.95e+03, 2.36e+09, 2.49e+05, 5.65e+05, 4.07e+08, 5.44e+06, 1.72e+09]    [2.90e+03, 2.88e+03, 2.95e+03, 2.36e+09, 2.49e+05, 5.65e+05, 4.07e+08, 5.44e+06, 1.72e+09]    []  \n",
      "45000     [3.08e+03, 2.99e+03, 3.12e+03, 2.36e+09, 2.44e+05, 5.91e+05, 4.06e+08, 5.44e+06, 1.72e+09]    [3.08e+03, 2.99e+03, 3.12e+03, 2.36e+09, 2.44e+05, 5.91e+05, 4.06e+08, 5.44e+06, 1.72e+09]    []  \n",
      "46000     [3.17e+03, 3.20e+03, 3.20e+03, 2.36e+09, 2.38e+05, 6.18e+05, 4.06e+08, 5.43e+06, 1.72e+09]    [3.17e+03, 3.20e+03, 3.20e+03, 2.36e+09, 2.38e+05, 6.18e+05, 4.06e+08, 5.43e+06, 1.72e+09]    []  \n",
      "47000     [3.28e+03, 3.33e+03, 3.31e+03, 2.36e+09, 2.32e+05, 6.45e+05, 4.05e+08, 5.42e+06, 1.71e+09]    [3.28e+03, 3.33e+03, 3.31e+03, 2.36e+09, 2.32e+05, 6.45e+05, 4.05e+08, 5.42e+06, 1.71e+09]    []  \n",
      "48000     [3.39e+03, 3.36e+03, 3.45e+03, 2.35e+09, 2.27e+05, 6.72e+05, 4.05e+08, 5.42e+06, 1.71e+09]    [3.39e+03, 3.36e+03, 3.45e+03, 2.35e+09, 2.27e+05, 6.72e+05, 4.05e+08, 5.42e+06, 1.71e+09]    []  \n"
     ]
    }
   ],
   "source": [
    "net = dde.nn.FNN([1] + [30] * 3 + [3], \"tanh\", \"Glorot uniform\")\n",
    "model = dde.Model(data, net)\n",
    "model.compile(\"adam\", lr=0.001, external_trainable_variables=[C1, C2, C3])\n",
    "variable = dde.callbacks.VariableValue(\n",
    "    [C1, C2, C3], period=600, filename=\"variables.dat\"\n",
    ")\n",
    "losshistory, train_state = model.train(iterations=50000, callbacks=[variable])\n",
    "dde.saveplot(losshistory, train_state, issave=True, isplot=True)"
   ]
  },
  {
   "cell_type": "code",
   "execution_count": null,
   "id": "5d253c74",
   "metadata": {
    "pycharm": {
     "name": "#%%\n"
    }
   },
   "outputs": [],
   "source": []
  },
  {
   "cell_type": "code",
   "execution_count": null,
   "id": "fa9dfafa",
   "metadata": {
    "pycharm": {
     "name": "#%%\n"
    }
   },
   "outputs": [],
   "source": []
  },
  {
   "cell_type": "code",
   "execution_count": null,
   "id": "404c2649",
   "metadata": {
    "pycharm": {
     "name": "#%%\n"
    }
   },
   "outputs": [],
   "source": []
  }
 ],
 "metadata": {
  "kernelspec": {
   "display_name": "Python 3 (ipykernel)",
   "language": "python",
   "name": "python3"
  },
  "language_info": {
   "codemirror_mode": {
    "name": "ipython",
    "version": 3
   },
   "file_extension": ".py",
   "mimetype": "text/x-python",
   "name": "python",
   "nbconvert_exporter": "python",
   "pygments_lexer": "ipython3",
   "version": "3.7.13"
  }
 },
 "nbformat": 4,
 "nbformat_minor": 5
}